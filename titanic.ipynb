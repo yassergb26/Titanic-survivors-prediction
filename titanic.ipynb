{
 "cells": [
  {
   "cell_type": "code",
   "execution_count": 1,
   "id": "c86875a8",
   "metadata": {},
   "outputs": [],
   "source": [
    "import pandas as pd\n",
    "from sklearn.model_selection import train_test_split\n",
    "from sklearn.impute import SimpleImputer\n",
    "from sklearn.preprocessing import StandardScaler, OneHotEncoder\n",
    "from sklearn.compose import ColumnTransformer\n",
    "from sklearn.pipeline import Pipeline\n",
    "from sklearn.linear_model import LogisticRegression\n",
    "from sklearn.metrics import accuracy_score, precision_score, recall_score, f1_score, confusion_matrix\n",
    "from sklearn.model_selection import GridSearchCV\n",
    "\n"
   ]
  },
  {
   "cell_type": "code",
   "execution_count": 2,
   "id": "e8086c29",
   "metadata": {},
   "outputs": [],
   "source": [
    " #Load the Titanic dataset\n",
    "train_df = pd.read_csv('train.csv')\n",
    "test_df = pd.read_csv('test.csv')\n",
    "gender_submission_df = pd.read_csv('gender_submission.csv')\n"
   ]
  },
  {
   "cell_type": "code",
   "execution_count": 3,
   "id": "5893db45",
   "metadata": {},
   "outputs": [],
   "source": [
    "combined_df = pd.concat([train_df.drop('Survived', axis=1), test_df], axis=0)\n"
   ]
  },
  {
   "cell_type": "code",
   "execution_count": 4,
   "id": "0c7859b5",
   "metadata": {},
   "outputs": [
    {
     "name": "stdout",
     "output_type": "stream",
     "text": [
      "PassengerId       0\n",
      "Pclass            0\n",
      "Name              0\n",
      "Sex               0\n",
      "Age             263\n",
      "SibSp             0\n",
      "Parch             0\n",
      "Ticket            0\n",
      "Fare              1\n",
      "Cabin          1014\n",
      "Embarked          2\n",
      "dtype: int64\n"
     ]
    }
   ],
   "source": [
    "# Check for missing data\n",
    "print(combined_df.isnull().sum())"
   ]
  },
  {
   "cell_type": "code",
   "execution_count": 5,
   "id": "b74ee861",
   "metadata": {},
   "outputs": [],
   "source": [
    "# Separate numerical and categorical features\n",
    "numeric_features = combined_df.select_dtypes(include=['int64', 'float64']).columns\n",
    "categorical_features = combined_df.select_dtypes(include=['object']).columns\n",
    "\n",
    "# Separate features and target variable for the train set\n",
    "X_train = train_df.drop(\"Survived\", axis=1)\n",
    "y_train = train_df[\"Survived\"]\n",
    "\n",
    "# Separate features for the test set\n",
    "X_test = test_df.copy()\n",
    "\n",
    "# Separate numerical features\n",
    "X_train_numeric = X_train[numeric_features]\n",
    "X_test_numeric = X_test[numeric_features]\n",
    "\n",
    "# Separate categorical features\n",
    "X_train_categorical = X_train[categorical_features]\n",
    "X_test_categorical = X_test[categorical_features]\n",
    "\n",
    "# Preprocess numerical features\n",
    "scaler = StandardScaler()\n",
    "X_train_numeric_preprocessed = scaler.fit_transform(X_train_numeric)\n",
    "X_test_numeric_preprocessed = scaler.transform(X_test_numeric)\n",
    "\n",
    "# Preprocess categorical features\n",
    "encoder = OneHotEncoder(handle_unknown='ignore')\n",
    "X_train_categorical_preprocessed = encoder.fit_transform(X_train_categorical).toarray()\n",
    "X_test_categorical_preprocessed = encoder.transform(X_test_categorical).toarray()\n",
    "\n",
    "# Concatenate preprocessed numerical and categorical features\n",
    "X_train_preprocessed = pd.concat([pd.DataFrame(X_train_numeric_preprocessed, columns=numeric_features),\n",
    "                                  pd.DataFrame(X_train_categorical_preprocessed, columns=encoder.get_feature_names_out(categorical_features))],\n",
    "                                  axis=1)\n",
    "\n",
    "X_test_preprocessed = pd.concat([pd.DataFrame(X_test_numeric_preprocessed, columns=numeric_features),\n",
    "                                 pd.DataFrame(X_test_categorical_preprocessed, columns=encoder.get_feature_names_out(categorical_features))],\n",
    "                                 axis=1)"
   ]
  },
  {
   "cell_type": "code",
   "execution_count": 6,
   "id": "18870222",
   "metadata": {},
   "outputs": [],
   "source": [
    "# Impute missing values for numerical features\n",
    "numeric_imputer = SimpleImputer(strategy='mean')\n",
    "X_train_numeric_imputed = pd.DataFrame(numeric_imputer.fit_transform(X_train_numeric), columns=numeric_features)\n",
    "X_test_numeric_imputed = pd.DataFrame(numeric_imputer.transform(X_test_numeric), columns=numeric_features)\n",
    "\n",
    "# Impute missing values for categorical features\n",
    "categorical_imputer = SimpleImputer(strategy='most_frequent')\n",
    "X_train_categorical_imputed = pd.DataFrame(categorical_imputer.fit_transform(X_train_categorical), columns=categorical_features)\n",
    "X_test_categorical_imputed = pd.DataFrame(categorical_imputer.transform(X_test_categorical), columns=categorical_features)\n",
    "\n",
    "# Preprocess numerical features\n",
    "scaler = StandardScaler()\n",
    "X_train_numeric_preprocessed = scaler.fit_transform(X_train_numeric_imputed)\n",
    "X_test_numeric_preprocessed = scaler.transform(X_test_numeric_imputed)\n",
    "\n",
    "# Preprocess categorical features\n",
    "encoder = OneHotEncoder(handle_unknown='ignore')\n",
    "X_train_categorical_preprocessed = encoder.fit_transform(X_train_categorical_imputed).toarray()\n",
    "X_test_categorical_preprocessed = encoder.transform(X_test_categorical_imputed).toarray()\n",
    "\n",
    "# Concatenate preprocessed numerical and categorical features\n",
    "X_train_preprocessed = pd.concat([pd.DataFrame(X_train_numeric_preprocessed, columns=numeric_features),\n",
    "                                  pd.DataFrame(X_train_categorical_preprocessed, columns=encoder.get_feature_names_out(categorical_features))],\n",
    "                                  axis=1)\n",
    "\n",
    "X_test_preprocessed = pd.concat([pd.DataFrame(X_test_numeric_preprocessed, columns=numeric_features),\n",
    "                                 pd.DataFrame(X_test_categorical_preprocessed, columns=encoder.get_feature_names_out(categorical_features))],\n",
    "                                 axis=1)\n",
    "\n"
   ]
  },
  {
   "cell_type": "code",
   "execution_count": 7,
   "id": "7186d80b",
   "metadata": {},
   "outputs": [
    {
     "data": {
      "text/plain": [
       "<bound method NDFrame.head of      PassengerId  Pclass                                               Name  \\\n",
       "0              1       3                            Braund, Mr. Owen Harris   \n",
       "1              2       1  Cumings, Mrs. John Bradley (Florence Briggs Th...   \n",
       "2              3       3                             Heikkinen, Miss. Laina   \n",
       "3              4       1       Futrelle, Mrs. Jacques Heath (Lily May Peel)   \n",
       "4              5       3                           Allen, Mr. William Henry   \n",
       "..           ...     ...                                                ...   \n",
       "886          887       2                              Montvila, Rev. Juozas   \n",
       "887          888       1                       Graham, Miss. Margaret Edith   \n",
       "888          889       3           Johnston, Miss. Catherine Helen \"Carrie\"   \n",
       "889          890       1                              Behr, Mr. Karl Howell   \n",
       "890          891       3                                Dooley, Mr. Patrick   \n",
       "\n",
       "        Sex   Age  SibSp  Parch            Ticket     Fare Cabin Embarked  \n",
       "0      male  22.0      1      0         A/5 21171   7.2500   NaN        S  \n",
       "1    female  38.0      1      0          PC 17599  71.2833   C85        C  \n",
       "2    female  26.0      0      0  STON/O2. 3101282   7.9250   NaN        S  \n",
       "3    female  35.0      1      0            113803  53.1000  C123        S  \n",
       "4      male  35.0      0      0            373450   8.0500   NaN        S  \n",
       "..      ...   ...    ...    ...               ...      ...   ...      ...  \n",
       "886    male  27.0      0      0            211536  13.0000   NaN        S  \n",
       "887  female  19.0      0      0            112053  30.0000   B42        S  \n",
       "888  female   NaN      1      2        W./C. 6607  23.4500   NaN        S  \n",
       "889    male  26.0      0      0            111369  30.0000  C148        C  \n",
       "890    male  32.0      0      0            370376   7.7500   NaN        Q  \n",
       "\n",
       "[891 rows x 11 columns]>"
      ]
     },
     "execution_count": 7,
     "metadata": {},
     "output_type": "execute_result"
    }
   ],
   "source": [
    "X_train.head"
   ]
  },
  {
   "cell_type": "code",
   "execution_count": 8,
   "id": "9053d2cf",
   "metadata": {},
   "outputs": [
    {
     "data": {
      "text/html": [
       "<style>#sk-container-id-1 {color: black;}#sk-container-id-1 pre{padding: 0;}#sk-container-id-1 div.sk-toggleable {background-color: white;}#sk-container-id-1 label.sk-toggleable__label {cursor: pointer;display: block;width: 100%;margin-bottom: 0;padding: 0.3em;box-sizing: border-box;text-align: center;}#sk-container-id-1 label.sk-toggleable__label-arrow:before {content: \"▸\";float: left;margin-right: 0.25em;color: #696969;}#sk-container-id-1 label.sk-toggleable__label-arrow:hover:before {color: black;}#sk-container-id-1 div.sk-estimator:hover label.sk-toggleable__label-arrow:before {color: black;}#sk-container-id-1 div.sk-toggleable__content {max-height: 0;max-width: 0;overflow: hidden;text-align: left;background-color: #f0f8ff;}#sk-container-id-1 div.sk-toggleable__content pre {margin: 0.2em;color: black;border-radius: 0.25em;background-color: #f0f8ff;}#sk-container-id-1 input.sk-toggleable__control:checked~div.sk-toggleable__content {max-height: 200px;max-width: 100%;overflow: auto;}#sk-container-id-1 input.sk-toggleable__control:checked~label.sk-toggleable__label-arrow:before {content: \"▾\";}#sk-container-id-1 div.sk-estimator input.sk-toggleable__control:checked~label.sk-toggleable__label {background-color: #d4ebff;}#sk-container-id-1 div.sk-label input.sk-toggleable__control:checked~label.sk-toggleable__label {background-color: #d4ebff;}#sk-container-id-1 input.sk-hidden--visually {border: 0;clip: rect(1px 1px 1px 1px);clip: rect(1px, 1px, 1px, 1px);height: 1px;margin: -1px;overflow: hidden;padding: 0;position: absolute;width: 1px;}#sk-container-id-1 div.sk-estimator {font-family: monospace;background-color: #f0f8ff;border: 1px dotted black;border-radius: 0.25em;box-sizing: border-box;margin-bottom: 0.5em;}#sk-container-id-1 div.sk-estimator:hover {background-color: #d4ebff;}#sk-container-id-1 div.sk-parallel-item::after {content: \"\";width: 100%;border-bottom: 1px solid gray;flex-grow: 1;}#sk-container-id-1 div.sk-label:hover label.sk-toggleable__label {background-color: #d4ebff;}#sk-container-id-1 div.sk-serial::before {content: \"\";position: absolute;border-left: 1px solid gray;box-sizing: border-box;top: 0;bottom: 0;left: 50%;z-index: 0;}#sk-container-id-1 div.sk-serial {display: flex;flex-direction: column;align-items: center;background-color: white;padding-right: 0.2em;padding-left: 0.2em;position: relative;}#sk-container-id-1 div.sk-item {position: relative;z-index: 1;}#sk-container-id-1 div.sk-parallel {display: flex;align-items: stretch;justify-content: center;background-color: white;position: relative;}#sk-container-id-1 div.sk-item::before, #sk-container-id-1 div.sk-parallel-item::before {content: \"\";position: absolute;border-left: 1px solid gray;box-sizing: border-box;top: 0;bottom: 0;left: 50%;z-index: -1;}#sk-container-id-1 div.sk-parallel-item {display: flex;flex-direction: column;z-index: 1;position: relative;background-color: white;}#sk-container-id-1 div.sk-parallel-item:first-child::after {align-self: flex-end;width: 50%;}#sk-container-id-1 div.sk-parallel-item:last-child::after {align-self: flex-start;width: 50%;}#sk-container-id-1 div.sk-parallel-item:only-child::after {width: 0;}#sk-container-id-1 div.sk-dashed-wrapped {border: 1px dashed gray;margin: 0 0.4em 0.5em 0.4em;box-sizing: border-box;padding-bottom: 0.4em;background-color: white;}#sk-container-id-1 div.sk-label label {font-family: monospace;font-weight: bold;display: inline-block;line-height: 1.2em;}#sk-container-id-1 div.sk-label-container {text-align: center;}#sk-container-id-1 div.sk-container {/* jupyter's `normalize.less` sets `[hidden] { display: none; }` but bootstrap.min.css set `[hidden] { display: none !important; }` so we also need the `!important` here to be able to override the default hidden behavior on the sphinx rendered scikit-learn.org. See: https://github.com/scikit-learn/scikit-learn/issues/21755 */display: inline-block !important;position: relative;}#sk-container-id-1 div.sk-text-repr-fallback {display: none;}</style><div id=\"sk-container-id-1\" class=\"sk-top-container\"><div class=\"sk-text-repr-fallback\"><pre>LogisticRegression(random_state=42)</pre><b>In a Jupyter environment, please rerun this cell to show the HTML representation or trust the notebook. <br />On GitHub, the HTML representation is unable to render, please try loading this page with nbviewer.org.</b></div><div class=\"sk-container\" hidden><div class=\"sk-item\"><div class=\"sk-estimator sk-toggleable\"><input class=\"sk-toggleable__control sk-hidden--visually\" id=\"sk-estimator-id-1\" type=\"checkbox\" checked><label for=\"sk-estimator-id-1\" class=\"sk-toggleable__label sk-toggleable__label-arrow\">LogisticRegression</label><div class=\"sk-toggleable__content\"><pre>LogisticRegression(random_state=42)</pre></div></div></div></div></div>"
      ],
      "text/plain": [
       "LogisticRegression(random_state=42)"
      ]
     },
     "execution_count": 8,
     "metadata": {},
     "output_type": "execute_result"
    }
   ],
   "source": [
    "logistic_regression_model = LogisticRegression(random_state=42)\n",
    "\n",
    "logistic_regression_model.fit(X_train_preprocessed, y_train)\n"
   ]
  },
  {
   "cell_type": "code",
   "execution_count": 9,
   "id": "bf63e369",
   "metadata": {},
   "outputs": [],
   "source": [
    "#Model evaluation\n",
    "\n",
    "y_test_true = gender_submission_df['Survived']\n",
    "y_test_pred = logistic_regression_model.predict(X_test_preprocessed)\n"
   ]
  },
  {
   "cell_type": "code",
   "execution_count": 10,
   "id": "665d2002",
   "metadata": {},
   "outputs": [
    {
     "name": "stdout",
     "output_type": "stream",
     "text": [
      "Accuracy: 0.9354066985645934\n",
      "Precision: 0.8881987577639752\n",
      "Recall: 0.9407894736842105\n",
      "F1 Score: 0.9137380191693291\n"
     ]
    }
   ],
   "source": [
    "#evaluate\n",
    "print(\"Accuracy:\", accuracy_score(y_test_true, y_test_pred))\n",
    "print(\"Precision:\", precision_score(y_test_true, y_test_pred))\n",
    "print(\"Recall:\", recall_score(y_test_true, y_test_pred))\n",
    "print(\"F1 Score:\", f1_score(y_test_true, y_test_pred))"
   ]
  },
  {
   "cell_type": "code",
   "execution_count": 12,
   "id": "1beee892",
   "metadata": {},
   "outputs": [
    {
     "name": "stdout",
     "output_type": "stream",
     "text": [
      "The predicted probability of survival for the selected passenger is: 0.9547\n",
      "The  prediction for survival is: 1\n"
     ]
    }
   ],
   "source": [
    "#(you can choose any row)\n",
    "passenger_to_predict = X_test_preprocessed.iloc[[12]]  \n",
    "\n",
    "\n",
    "survival_probability = logistic_regression_model.predict_proba(passenger_to_predict)[:, 1][0]\n",
    "\n",
    "\n",
    "print(f\"The predicted probability of survival for the selected passenger is: {survival_probability:.4f}\")\n",
    "\n",
    "\n",
    "survival_prediction = logistic_regression_model.predict(passenger_to_predict)[0]\n",
    "\n",
    "\n",
    "print(f\"The  prediction for survival is: {survival_prediction}\")\n"
   ]
  },
  {
   "cell_type": "code",
   "execution_count": null,
   "id": "23465710",
   "metadata": {},
   "outputs": [],
   "source": [
    "#Documantation\n",
    "# I started with importing the libaries then exploraing the data which was challenging but i enjoyed it the cleaning proccess is what took the most time but i got the hung of it in the end\n",
    "#modeling i choose the logistic regression because it was easy for an binary classification program\n",
    "#after evaluation i did a prediction program to check if the program is doing good after i got an accuracy of 93% \n",
    "#thank you , it really was fun and helped me to kearn new things \n"
   ]
  },
  {
   "cell_type": "code",
   "execution_count": null,
   "id": "f36948b7",
   "metadata": {},
   "outputs": [],
   "source": []
  }
 ],
 "metadata": {
  "kernelspec": {
   "display_name": "Python 3 (ipykernel)",
   "language": "python",
   "name": "python3"
  },
  "language_info": {
   "codemirror_mode": {
    "name": "ipython",
    "version": 3
   },
   "file_extension": ".py",
   "mimetype": "text/x-python",
   "name": "python",
   "nbconvert_exporter": "python",
   "pygments_lexer": "ipython3",
   "version": "3.11.5"
  }
 },
 "nbformat": 4,
 "nbformat_minor": 5
}
